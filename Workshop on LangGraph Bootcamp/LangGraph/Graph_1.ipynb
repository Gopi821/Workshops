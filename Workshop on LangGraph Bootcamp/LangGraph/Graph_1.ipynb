{
 "cells": [
  {
   "cell_type": "code",
   "execution_count": 1,
   "id": "fd0c03d5",
   "metadata": {},
   "outputs": [
    {
     "name": "stdout",
     "output_type": "stream",
     "text": [
      "Collecting langchain\n",
      "  Using cached langchain-0.3.25-py3-none-any.whl.metadata (7.8 kB)\n",
      "Collecting langgraph\n",
      "  Downloading langgraph-0.4.7-py3-none-any.whl.metadata (6.8 kB)\n",
      "Collecting langsmith\n",
      "  Downloading langsmith-0.3.43-py3-none-any.whl.metadata (15 kB)\n",
      "Collecting langchain_groq\n",
      "  Downloading langchain_groq-0.3.2-py3-none-any.whl.metadata (2.6 kB)\n",
      "Collecting langchain_community\n",
      "  Downloading langchain_community-0.3.24-py3-none-any.whl.metadata (2.5 kB)\n",
      "Collecting langchain-core<1.0.0,>=0.3.58 (from langchain)\n",
      "  Downloading langchain_core-0.3.63-py3-none-any.whl.metadata (5.8 kB)\n",
      "Collecting langchain-text-splitters<1.0.0,>=0.3.8 (from langchain)\n",
      "  Using cached langchain_text_splitters-0.3.8-py3-none-any.whl.metadata (1.9 kB)\n",
      "Requirement already satisfied: pydantic<3.0.0,>=2.7.4 in c:\\users\\gopi reddy\\anaconda3\\lib\\site-packages (from langchain) (2.8.2)\n",
      "Requirement already satisfied: SQLAlchemy<3,>=1.4 in c:\\users\\gopi reddy\\anaconda3\\lib\\site-packages (from langchain) (2.0.34)\n",
      "Requirement already satisfied: requests<3,>=2 in c:\\users\\gopi reddy\\anaconda3\\lib\\site-packages (from langchain) (2.32.3)\n",
      "Requirement already satisfied: PyYAML>=5.3 in c:\\users\\gopi reddy\\anaconda3\\lib\\site-packages (from langchain) (6.0.1)\n",
      "Collecting langgraph-checkpoint>=2.0.26 (from langgraph)\n",
      "  Downloading langgraph_checkpoint-2.0.26-py3-none-any.whl.metadata (4.6 kB)\n",
      "Collecting langgraph-prebuilt>=0.2.0 (from langgraph)\n",
      "  Downloading langgraph_prebuilt-0.2.2-py3-none-any.whl.metadata (4.5 kB)\n",
      "Collecting langgraph-sdk>=0.1.42 (from langgraph)\n",
      "  Downloading langgraph_sdk-0.1.70-py3-none-any.whl.metadata (1.5 kB)\n",
      "Collecting xxhash>=3.5.0 (from langgraph)\n",
      "  Downloading xxhash-3.5.0-cp312-cp312-win_amd64.whl.metadata (13 kB)\n",
      "Requirement already satisfied: httpx<1,>=0.23.0 in c:\\users\\gopi reddy\\anaconda3\\lib\\site-packages (from langsmith) (0.27.0)\n",
      "Collecting orjson<4.0.0,>=3.9.14 (from langsmith)\n",
      "  Downloading orjson-3.10.18-cp312-cp312-win_amd64.whl.metadata (43 kB)\n",
      "Requirement already satisfied: packaging>=23.2 in c:\\users\\gopi reddy\\appdata\\roaming\\python\\python312\\site-packages (from langsmith) (24.1)\n",
      "Requirement already satisfied: requests-toolbelt<2.0.0,>=1.0.0 in c:\\users\\gopi reddy\\anaconda3\\lib\\site-packages (from langsmith) (1.0.0)\n",
      "Requirement already satisfied: zstandard<0.24.0,>=0.23.0 in c:\\users\\gopi reddy\\anaconda3\\lib\\site-packages (from langsmith) (0.23.0)\n",
      "Collecting groq<1,>=0.4.1 (from langchain_groq)\n",
      "  Downloading groq-0.26.0-py3-none-any.whl.metadata (15 kB)\n",
      "Requirement already satisfied: aiohttp<4.0.0,>=3.8.3 in c:\\users\\gopi reddy\\anaconda3\\lib\\site-packages (from langchain_community) (3.10.5)\n",
      "Requirement already satisfied: tenacity!=8.4.0,<10,>=8.1.0 in c:\\users\\gopi reddy\\anaconda3\\lib\\site-packages (from langchain_community) (8.2.3)\n",
      "Collecting dataclasses-json<0.7,>=0.5.7 (from langchain_community)\n",
      "  Downloading dataclasses_json-0.6.7-py3-none-any.whl.metadata (25 kB)\n",
      "Requirement already satisfied: pydantic-settings<3.0.0,>=2.4.0 in c:\\users\\gopi reddy\\anaconda3\\lib\\site-packages (from langchain_community) (2.6.1)\n",
      "Collecting httpx-sse<1.0.0,>=0.4.0 (from langchain_community)\n",
      "  Downloading httpx_sse-0.4.0-py3-none-any.whl.metadata (9.0 kB)\n",
      "Requirement already satisfied: numpy>=1.26.2 in c:\\users\\gopi reddy\\anaconda3\\lib\\site-packages (from langchain_community) (2.2.5)\n",
      "Requirement already satisfied: aiohappyeyeballs>=2.3.0 in c:\\users\\gopi reddy\\anaconda3\\lib\\site-packages (from aiohttp<4.0.0,>=3.8.3->langchain_community) (2.4.0)\n",
      "Requirement already satisfied: aiosignal>=1.1.2 in c:\\users\\gopi reddy\\anaconda3\\lib\\site-packages (from aiohttp<4.0.0,>=3.8.3->langchain_community) (1.2.0)\n",
      "Requirement already satisfied: attrs>=17.3.0 in c:\\users\\gopi reddy\\anaconda3\\lib\\site-packages (from aiohttp<4.0.0,>=3.8.3->langchain_community) (23.1.0)\n",
      "Requirement already satisfied: frozenlist>=1.1.1 in c:\\users\\gopi reddy\\anaconda3\\lib\\site-packages (from aiohttp<4.0.0,>=3.8.3->langchain_community) (1.4.0)\n",
      "Requirement already satisfied: multidict<7.0,>=4.5 in c:\\users\\gopi reddy\\anaconda3\\lib\\site-packages (from aiohttp<4.0.0,>=3.8.3->langchain_community) (6.0.4)\n",
      "Requirement already satisfied: yarl<2.0,>=1.0 in c:\\users\\gopi reddy\\anaconda3\\lib\\site-packages (from aiohttp<4.0.0,>=3.8.3->langchain_community) (1.11.0)\n",
      "Collecting marshmallow<4.0.0,>=3.18.0 (from dataclasses-json<0.7,>=0.5.7->langchain_community)\n",
      "  Downloading marshmallow-3.26.1-py3-none-any.whl.metadata (7.3 kB)\n",
      "Collecting typing-inspect<1,>=0.4.0 (from dataclasses-json<0.7,>=0.5.7->langchain_community)\n",
      "  Downloading typing_inspect-0.9.0-py3-none-any.whl.metadata (1.5 kB)\n",
      "Requirement already satisfied: anyio<5,>=3.5.0 in c:\\users\\gopi reddy\\anaconda3\\lib\\site-packages (from groq<1,>=0.4.1->langchain_groq) (4.2.0)\n",
      "Requirement already satisfied: distro<2,>=1.7.0 in c:\\users\\gopi reddy\\anaconda3\\lib\\site-packages (from groq<1,>=0.4.1->langchain_groq) (1.9.0)\n",
      "Requirement already satisfied: sniffio in c:\\users\\gopi reddy\\anaconda3\\lib\\site-packages (from groq<1,>=0.4.1->langchain_groq) (1.3.0)\n",
      "Requirement already satisfied: typing-extensions<5,>=4.10 in c:\\users\\gopi reddy\\anaconda3\\lib\\site-packages (from groq<1,>=0.4.1->langchain_groq) (4.11.0)\n",
      "Requirement already satisfied: certifi in c:\\users\\gopi reddy\\anaconda3\\lib\\site-packages (from httpx<1,>=0.23.0->langsmith) (2025.1.31)\n",
      "Requirement already satisfied: httpcore==1.* in c:\\users\\gopi reddy\\anaconda3\\lib\\site-packages (from httpx<1,>=0.23.0->langsmith) (1.0.2)\n",
      "Requirement already satisfied: idna in c:\\users\\gopi reddy\\anaconda3\\lib\\site-packages (from httpx<1,>=0.23.0->langsmith) (3.7)\n",
      "Requirement already satisfied: h11<0.15,>=0.13 in c:\\users\\gopi reddy\\anaconda3\\lib\\site-packages (from httpcore==1.*->httpx<1,>=0.23.0->langsmith) (0.14.0)\n",
      "Requirement already satisfied: jsonpatch<2.0,>=1.33 in c:\\users\\gopi reddy\\anaconda3\\lib\\site-packages (from langchain-core<1.0.0,>=0.3.58->langchain) (1.33)\n",
      "Collecting ormsgpack<2.0.0,>=1.8.0 (from langgraph-checkpoint>=2.0.26->langgraph)\n",
      "  Downloading ormsgpack-1.10.0-cp312-cp312-win_amd64.whl.metadata (44 kB)\n",
      "Requirement already satisfied: annotated-types>=0.4.0 in c:\\users\\gopi reddy\\anaconda3\\lib\\site-packages (from pydantic<3.0.0,>=2.7.4->langchain) (0.6.0)\n",
      "Requirement already satisfied: pydantic-core==2.20.1 in c:\\users\\gopi reddy\\anaconda3\\lib\\site-packages (from pydantic<3.0.0,>=2.7.4->langchain) (2.20.1)\n",
      "Requirement already satisfied: python-dotenv>=0.21.0 in c:\\users\\gopi reddy\\anaconda3\\lib\\site-packages (from pydantic-settings<3.0.0,>=2.4.0->langchain_community) (0.21.0)\n",
      "Requirement already satisfied: charset-normalizer<4,>=2 in c:\\users\\gopi reddy\\anaconda3\\lib\\site-packages (from requests<3,>=2->langchain) (3.3.2)\n",
      "Requirement already satisfied: urllib3<3,>=1.21.1 in c:\\users\\gopi reddy\\anaconda3\\lib\\site-packages (from requests<3,>=2->langchain) (2.2.3)\n",
      "Requirement already satisfied: greenlet!=0.4.17 in c:\\users\\gopi reddy\\anaconda3\\lib\\site-packages (from SQLAlchemy<3,>=1.4->langchain) (3.0.1)\n",
      "Requirement already satisfied: jsonpointer>=1.9 in c:\\users\\gopi reddy\\anaconda3\\lib\\site-packages (from jsonpatch<2.0,>=1.33->langchain-core<1.0.0,>=0.3.58->langchain) (2.1)\n",
      "Requirement already satisfied: mypy-extensions>=0.3.0 in c:\\users\\gopi reddy\\anaconda3\\lib\\site-packages (from typing-inspect<1,>=0.4.0->dataclasses-json<0.7,>=0.5.7->langchain_community) (1.0.0)\n",
      "Using cached langchain-0.3.25-py3-none-any.whl (1.0 MB)\n",
      "Downloading langgraph-0.4.7-py3-none-any.whl (154 kB)\n",
      "Downloading langsmith-0.3.43-py3-none-any.whl (361 kB)\n",
      "Downloading langchain_groq-0.3.2-py3-none-any.whl (15 kB)\n",
      "Downloading langchain_community-0.3.24-py3-none-any.whl (2.5 MB)\n",
      "   ---------------------------------------- 0.0/2.5 MB ? eta -:--:--\n",
      "   ------------ --------------------------- 0.8/2.5 MB 5.6 MB/s eta 0:00:01\n",
      "   ----------------------------- ---------- 1.8/2.5 MB 4.4 MB/s eta 0:00:01\n",
      "   ---------------------------------------- 2.5/2.5 MB 3.9 MB/s eta 0:00:00\n",
      "Downloading dataclasses_json-0.6.7-py3-none-any.whl (28 kB)\n",
      "Downloading groq-0.26.0-py3-none-any.whl (129 kB)\n",
      "Downloading httpx_sse-0.4.0-py3-none-any.whl (7.8 kB)\n",
      "Downloading langchain_core-0.3.63-py3-none-any.whl (438 kB)\n",
      "Using cached langchain_text_splitters-0.3.8-py3-none-any.whl (32 kB)\n",
      "Downloading langgraph_checkpoint-2.0.26-py3-none-any.whl (44 kB)\n",
      "Downloading langgraph_prebuilt-0.2.2-py3-none-any.whl (23 kB)\n",
      "Downloading langgraph_sdk-0.1.70-py3-none-any.whl (49 kB)\n",
      "Downloading orjson-3.10.18-cp312-cp312-win_amd64.whl (134 kB)\n",
      "Downloading xxhash-3.5.0-cp312-cp312-win_amd64.whl (30 kB)\n",
      "Downloading marshmallow-3.26.1-py3-none-any.whl (50 kB)\n",
      "Downloading ormsgpack-1.10.0-cp312-cp312-win_amd64.whl (121 kB)\n",
      "Downloading typing_inspect-0.9.0-py3-none-any.whl (8.8 kB)\n",
      "Installing collected packages: xxhash, typing-inspect, ormsgpack, orjson, marshmallow, httpx-sse, dataclasses-json, langsmith, langgraph-sdk, groq, langchain-core, langgraph-checkpoint, langchain-text-splitters, langchain_groq, langgraph-prebuilt, langchain, langgraph, langchain_community\n",
      "Successfully installed dataclasses-json-0.6.7 groq-0.26.0 httpx-sse-0.4.0 langchain-0.3.25 langchain-core-0.3.63 langchain-text-splitters-0.3.8 langchain_community-0.3.24 langchain_groq-0.3.2 langgraph-0.4.7 langgraph-checkpoint-2.0.26 langgraph-prebuilt-0.2.2 langgraph-sdk-0.1.70 langsmith-0.3.43 marshmallow-3.26.1 orjson-3.10.18 ormsgpack-1.10.0 typing-inspect-0.9.0 xxhash-3.5.0\n"
     ]
    }
   ],
   "source": [
    "!pip install langchain langgraph  langsmith langchain_groq langchain_community"
   ]
  },
  {
   "cell_type": "code",
   "execution_count": 2,
   "id": "c09a451b",
   "metadata": {},
   "outputs": [],
   "source": [
    "groq_api_key = \"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\""
   ]
  },
  {
   "cell_type": "code",
   "execution_count": 3,
   "id": "41ada65e",
   "metadata": {},
   "outputs": [],
   "source": [
    "from langchain_groq import ChatGroq"
   ]
  },
  {
   "cell_type": "code",
   "execution_count": 4,
   "id": "e615b854",
   "metadata": {},
   "outputs": [],
   "source": [
    "llm = ChatGroq(groq_api_key=groq_api_key,model_name=\"Gemma2-9b-it\")"
   ]
  },
  {
   "cell_type": "code",
   "execution_count": 6,
   "id": "678bfc11",
   "metadata": {},
   "outputs": [],
   "source": [
    "from typing import Annotated\n",
    "from typing_extensions import TypedDict\n",
    "from langgraph.graph.message import add_messages\n",
    "from langgraph.graph import StateGraph,START,END "
   ]
  },
  {
   "cell_type": "code",
   "execution_count": 8,
   "id": "0ec6620e",
   "metadata": {},
   "outputs": [],
   "source": [
    "class State(TypedDict):\n",
    "    messages: Annotated[list,add_messages]\n",
    "graph_builder= StateGraph(State)"
   ]
  },
  {
   "cell_type": "code",
   "execution_count": 9,
   "id": "3dec25a5",
   "metadata": {},
   "outputs": [
    {
     "data": {
      "text/plain": [
       "<langgraph.graph.state.StateGraph at 0x26ec7d97b90>"
      ]
     },
     "execution_count": 9,
     "metadata": {},
     "output_type": "execute_result"
    }
   ],
   "source": [
    "graph_builder"
   ]
  },
  {
   "cell_type": "code",
   "execution_count": 10,
   "id": "e2935687",
   "metadata": {},
   "outputs": [],
   "source": [
    "def chatbot(state: State):\n",
    "    return{\"messages\":llm.invoke(state[\"messages\"])}"
   ]
  },
  {
   "cell_type": "code",
   "execution_count": 12,
   "id": "0d017ee8",
   "metadata": {},
   "outputs": [
    {
     "data": {
      "text/plain": [
       "<langgraph.graph.state.StateGraph at 0x26ec7d97b90>"
      ]
     },
     "execution_count": 12,
     "metadata": {},
     "output_type": "execute_result"
    }
   ],
   "source": [
    "graph_builder.add_node(\"chatbot\",chatbot)"
   ]
  },
  {
   "cell_type": "code",
   "execution_count": 13,
   "id": "62734129",
   "metadata": {},
   "outputs": [
    {
     "data": {
      "text/plain": [
       "<langgraph.graph.state.StateGraph at 0x26ec7d97b90>"
      ]
     },
     "execution_count": 13,
     "metadata": {},
     "output_type": "execute_result"
    }
   ],
   "source": [
    "graph_builder"
   ]
  },
  {
   "cell_type": "code",
   "execution_count": 14,
   "id": "4eeb0cd0",
   "metadata": {},
   "outputs": [
    {
     "data": {
      "text/plain": [
       "<langgraph.graph.state.StateGraph at 0x26ec7d97b90>"
      ]
     },
     "execution_count": 14,
     "metadata": {},
     "output_type": "execute_result"
    }
   ],
   "source": [
    "graph_builder.add_edge(START, 'chatbot')\n",
    "graph_builder.add_edge('chatbot', END)"
   ]
  },
  {
   "cell_type": "code",
   "execution_count": 15,
   "id": "157dbec1",
   "metadata": {},
   "outputs": [
    {
     "data": {
      "image/png": "[encoded data removed]",
      "text/plain": [
       "<langgraph.graph.state.CompiledStateGraph object at 0x0000026EC7D97710>"
      ]
     },
     "execution_count": 15,
     "metadata": {},
     "output_type": "execute_result"
    }
   ],
   "source": [
    "graph_builder.compile()"
   ]
  },
  {
   "cell_type": "code",
   "execution_count": 16,
   "id": "4da23399",
   "metadata": {},
   "outputs": [],
   "source": [
    "graph = graph_builder.compile()"
   ]
  },
  {
   "cell_type": "code",
   "execution_count": 17,
   "id": "6c3c0c20",
   "metadata": {},
   "outputs": [
    {
     "name": "stdout",
     "output_type": "stream",
     "text": [
      "dict_values([{'messages': AIMessage(content=\"The market for Generative AI is booming and is expected to grow exponentially in the coming years. \\n\\nHere's a breakdown of the market:\\n\\n**What is it?**\\n\\nGenerative AI refers to artificial intelligence models trained to create new content, such as text, images, audio, video, and code. This differs from other AI types that focus on analyzing existing data.\\n\\n**Key Players:**\\n\\n* **Large Tech Companies:** Google (Bard, Imagen), Microsoft (GitHub Copilot, DALL-E 2), Meta (Make-A-Video), OpenAI (ChatGPT, DALL-E 2), Amazon (SageMaker)\\n* **AI Startups:** Stability AI, Midjourney, Anthropic, Jasper.ai\\n* **Specialized Companies:** RunwayML (video generation), Synthesia (synthetic media)\\n\\n**Market Segments:**\\n\\n* **Text Generation:**\\n\\nChatbots, content creation (articles, marketing copy, scripts), code generation, summarization, translation.\\n\\n* **Image Generation:**\\n\\nArt and design, advertising, product visualization, photo editing, 3D modeling.\\n* **Audio Generation:**\\n\\nMusic composition, voice synthesis, sound design, audiobooks.\\n* **Video Generation:**\\n\\nVideo editing, animation, special effects, personalized video content.\\n\\n**Market Drivers:**\\n\\n* **Increased adoption of AI:** Businesses are increasingly using AI to automate tasks and improve efficiency.\\n* **Advancements in deep learning:** New algorithms and models are constantly being developed, leading to more sophisticated and creative AI-generated content.\\n* **Demand for personalized experiences:** Consumers are looking for products and services that are tailored to their individual needs and preferences.\\n* **Lowering of barriers to entry:** Cloud-based platforms and open-source tools are making it easier for businesses and individuals to access and use generative AI.\\n\\n**Challenges:**\\n\\n* **Ethical concerns:** Bias in training data, potential for misuse (e.g., deepfakes), copyright issues.\\n* **Computational resources:** Training generative AI models can be computationally expensive.\\n* **Quality control:** Ensuring the accuracy, reliability, and originality of AI-generated content.\\n\\n**Market Size and Future Outlook:**\\n\\nThe global generative AI market is expected to reach **$109.38 billion by 2030**, growing at a CAGR of **35.2%** from 2023 to 2030.\\n\\n**Key Takeaways:**\\n\\nThe generative AI market is rapidly evolving and presents significant opportunities for businesses and individuals. However, it is important to be aware of the challenges and ethical considerations associated with this technology.\\n\\n\\n\\n\", additional_kwargs={}, response_metadata={'token_usage': {'completion_tokens': 548, 'prompt_tokens': 17, 'total_tokens': 565, 'completion_time': 0.996363636, 'prompt_time': 0.002067917, 'queue_time': 0.242788492, 'total_time': 0.998431553}, 'model_name': 'Gemma2-9b-it', 'system_fingerprint': 'fp_10c08bf97d', 'finish_reason': 'stop', 'logprobs': None}, id='run--bb6f0d31-106e-44eb-9be1-2c7a7e3561f9-0', usage_metadata={'input_tokens': 17, 'output_tokens': 548, 'total_tokens': 565})}])\n",
      "content=\"The market for Generative AI is booming and is expected to grow exponentially in the coming years. \\n\\nHere's a breakdown of the market:\\n\\n**What is it?**\\n\\nGenerative AI refers to artificial intelligence models trained to create new content, such as text, images, audio, video, and code. This differs from other AI types that focus on analyzing existing data.\\n\\n**Key Players:**\\n\\n* **Large Tech Companies:** Google (Bard, Imagen), Microsoft (GitHub Copilot, DALL-E 2), Meta (Make-A-Video), OpenAI (ChatGPT, DALL-E 2), Amazon (SageMaker)\\n* **AI Startups:** Stability AI, Midjourney, Anthropic, Jasper.ai\\n* **Specialized Companies:** RunwayML (video generation), Synthesia (synthetic media)\\n\\n**Market Segments:**\\n\\n* **Text Generation:**\\n\\nChatbots, content creation (articles, marketing copy, scripts), code generation, summarization, translation.\\n\\n* **Image Generation:**\\n\\nArt and design, advertising, product visualization, photo editing, 3D modeling.\\n* **Audio Generation:**\\n\\nMusic composition, voice synthesis, sound design, audiobooks.\\n* **Video Generation:**\\n\\nVideo editing, animation, special effects, personalized video content.\\n\\n**Market Drivers:**\\n\\n* **Increased adoption of AI:** Businesses are increasingly using AI to automate tasks and improve efficiency.\\n* **Advancements in deep learning:** New algorithms and models are constantly being developed, leading to more sophisticated and creative AI-generated content.\\n* **Demand for personalized experiences:** Consumers are looking for products and services that are tailored to their individual needs and preferences.\\n* **Lowering of barriers to entry:** Cloud-based platforms and open-source tools are making it easier for businesses and individuals to access and use generative AI.\\n\\n**Challenges:**\\n\\n* **Ethical concerns:** Bias in training data, potential for misuse (e.g., deepfakes), copyright issues.\\n* **Computational resources:** Training generative AI models can be computationally expensive.\\n* **Quality control:** Ensuring the accuracy, reliability, and originality of AI-generated content.\\n\\n**Market Size and Future Outlook:**\\n\\nThe global generative AI market is expected to reach **$109.38 billion by 2030**, growing at a CAGR of **35.2%** from 2023 to 2030.\\n\\n**Key Takeaways:**\\n\\nThe generative AI market is rapidly evolving and presents significant opportunities for businesses and individuals. However, it is important to be aware of the challenges and ethical considerations associated with this technology.\\n\\n\\n\\n\" additional_kwargs={} response_metadata={'token_usage': {'completion_tokens': 548, 'prompt_tokens': 17, 'total_tokens': 565, 'completion_time': 0.996363636, 'prompt_time': 0.002067917, 'queue_time': 0.242788492, 'total_time': 0.998431553}, 'model_name': 'Gemma2-9b-it', 'system_fingerprint': 'fp_10c08bf97d', 'finish_reason': 'stop', 'logprobs': None} id='run--bb6f0d31-106e-44eb-9be1-2c7a7e3561f9-0' usage_metadata={'input_tokens': 17, 'output_tokens': 548, 'total_tokens': 565}\n",
      "Assistant: The market for Generative AI is booming and is expected to grow exponentially in the coming years. \n",
      "\n",
      "Here's a breakdown of the market:\n",
      "\n",
      "**What is it?**\n",
      "\n",
      "Generative AI refers to artificial intelligence models trained to create new content, such as text, images, audio, video, and code. This differs from other AI types that focus on analyzing existing data.\n",
      "\n",
      "**Key Players:**\n",
      "\n",
      "* **Large Tech Companies:** Google (Bard, Imagen), Microsoft (GitHub Copilot, DALL-E 2), Meta (Make-A-Video), OpenAI (ChatGPT, DALL-E 2), Amazon (SageMaker)\n",
      "* **AI Startups:** Stability AI, Midjourney, Anthropic, Jasper.ai\n",
      "* **Specialized Companies:** RunwayML (video generation), Synthesia (synthetic media)\n",
      "\n",
      "**Market Segments:**\n",
      "\n",
      "* **Text Generation:**\n",
      "\n",
      "Chatbots, content creation (articles, marketing copy, scripts), code generation, summarization, translation.\n",
      "\n",
      "* **Image Generation:**\n",
      "\n",
      "Art and design, advertising, product visualization, photo editing, 3D modeling.\n",
      "* **Audio Generation:**\n",
      "\n",
      "Music composition, voice synthesis, sound design, audiobooks.\n",
      "* **Video Generation:**\n",
      "\n",
      "Video editing, animation, special effects, personalized video content.\n",
      "\n",
      "**Market Drivers:**\n",
      "\n",
      "* **Increased adoption of AI:** Businesses are increasingly using AI to automate tasks and improve efficiency.\n",
      "* **Advancements in deep learning:** New algorithms and models are constantly being developed, leading to more sophisticated and creative AI-generated content.\n",
      "* **Demand for personalized experiences:** Consumers are looking for products and services that are tailored to their individual needs and preferences.\n",
      "* **Lowering of barriers to entry:** Cloud-based platforms and open-source tools are making it easier for businesses and individuals to access and use generative AI.\n",
      "\n",
      "**Challenges:**\n",
      "\n",
      "* **Ethical concerns:** Bias in training data, potential for misuse (e.g., deepfakes), copyright issues.\n",
      "* **Computational resources:** Training generative AI models can be computationally expensive.\n",
      "* **Quality control:** Ensuring the accuracy, reliability, and originality of AI-generated content.\n",
      "\n",
      "**Market Size and Future Outlook:**\n",
      "\n",
      "The global generative AI market is expected to reach **$109.38 billion by 2030**, growing at a CAGR of **35.2%** from 2023 to 2030.\n",
      "\n",
      "**Key Takeaways:**\n",
      "\n",
      "The generative AI market is rapidly evolving and presents significant opportunities for businesses and individuals. However, it is important to be aware of the challenges and ethical considerations associated with this technology.\n",
      "\n",
      "\n",
      "\n",
      "\n",
      "Good Bye,thank you LangGraph Framework\n"
     ]
    }
   ],
   "source": [
    "while True:\n",
    "    user_input = input(\"user: \")\n",
    "    if user_input.lower() in [ \"quit\",'q']:\n",
    "        print(\"Good Bye,thank you LangGraph Framework\")\n",
    "        break\n",
    "    for event in graph.stream({'messages':('user', user_input)}):\n",
    "        print(event.values())\n",
    "        for value in event.values():\n",
    "            print(value['messages'])\n",
    "            print('Assistant:',value['messages'].content)"
   ]
  },
  {
   "cell_type": "code",
   "execution_count": null,
   "id": "05c52a39",
   "metadata": {},
   "outputs": [],
   "source": []
  }
 ],
 "metadata": {
  "kernelspec": {
   "display_name": "base",
   "language": "python",
   "name": "python3"
  },
  "language_info": {
   "codemirror_mode": {
    "name": "ipython",
    "version": 3
   },
   "file_extension": ".py",
   "mimetype": "text/x-python",
   "name": "python",
   "nbconvert_exporter": "python",
   "pygments_lexer": "ipython3",
   "version": "3.12.7"
  }
 },
 "nbformat": 4,
 "nbformat_minor": 5
}
